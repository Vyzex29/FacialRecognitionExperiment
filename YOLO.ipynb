{
 "cells": [
  {
   "cell_type": "markdown",
   "metadata": {
    "pycharm": {
     "name": "#%% md\n"
    }
   },
   "source": [
    "# Pytorch/yolo install\n",
    "https://pytorch.org/get-started/locally/\n",
    "\n",
    "https://github.com/ultralytics/yolov5"
   ]
  },
  {
   "cell_type": "code",
   "execution_count": null,
   "metadata": {
    "collapsed": true
   },
   "outputs": [],
   "source": [
    "!conda install pytorch torchvision torchaudio cudatoolkit=11.3 -c pytorch\n",
    "!git clone https://github.com/ultralytics/yolov5  # clone\n",
    "!cd yolov5\n",
    "!pip install -r requirements.txt  # install"
   ]
  },
  {
   "cell_type": "markdown",
   "metadata": {
    "pycharm": {
     "name": "#%% md\n"
    }
   },
   "source": [
    "# Import torch, load model\n",
    "yolo versions - https://pytorch.org/hub/ultralytics_yolov5/"
   ]
  },
  {
   "cell_type": "code",
   "execution_count": 3,
   "metadata": {
    "pycharm": {
     "name": "#%%\n"
    },
    "scrolled": true
   },
   "outputs": [
    {
     "name": "stderr",
     "output_type": "stream",
     "text": [
      "Using cache found in C:\\Users\\User/.cache\\torch\\hub\\ultralytics_yolov5_master\n",
      "Downloading https://ultralytics.com/assets/Arial.ttf to C:\\Users\\User\\AppData\\Roaming\\Ultralytics\\Arial.ttf...\n",
      "YOLOv5  2022-4-8 torch 1.11.0 CUDA:0 (NVIDIA GeForce RTX 3070, 8192MiB)\n",
      "\n"
     ]
    },
    {
     "name": "stdout",
     "output_type": "stream",
     "text": [
      "Downloading https://github.com/ultralytics/yolov5/releases/download/v6.1/yolov5s.pt to yolov5s.pt...\n"
     ]
    },
    {
     "data": {
      "application/vnd.jupyter.widget-view+json": {
       "model_id": "5f426e028a734bbaa467602ca89cbc6f",
       "version_major": 2,
       "version_minor": 0
      },
      "text/plain": [
       "  0%|          | 0.00/14.1M [00:00<?, ?B/s]"
      ]
     },
     "metadata": {},
     "output_type": "display_data"
    },
    {
     "name": "stdout",
     "output_type": "stream",
     "text": [
      "\n"
     ]
    },
    {
     "name": "stderr",
     "output_type": "stream",
     "text": [
      "Fusing layers... \n",
      "YOLOv5s summary: 213 layers, 7225885 parameters, 0 gradients\n",
      "Adding AutoShape... \n"
     ]
    }
   ],
   "source": [
    "import torch\n",
    "from matplotlib import pyplot as plot\n",
    "import numpy as np\n",
    "import cv2\n",
    "\n",
    "model = torch.hub.load('ultralytics/yolov5', 'yolov5s')"
   ]
  },
  {
   "cell_type": "markdown",
   "metadata": {},
   "source": [
    "# Webcam test"
   ]
  },
  {
   "cell_type": "code",
   "execution_count": 11,
   "metadata": {},
   "outputs": [],
   "source": [
    "cap = cv2.VideoCapture(0) # yolo can do a video, which is cool, just passing instead of 0 a videofile is good\n",
    "while cap.isOpened():\n",
    "    ret, frame = cap.read()\n",
    "    result = model(frame)\n",
    "    cv2.imshow('YOLO', np.squeeze(result.render()))\n",
    "    \n",
    "    if cv2.waitKey(10) & 0xFF == ord ('q'):\n",
    "        break\n",
    "cap.release()\n",
    "cv2.destroyAllWindows()"
   ]
  },
  {
   "cell_type": "markdown",
   "metadata": {},
   "source": [
    "#   Getting images from collected images\n"
   ]
  },
  {
   "cell_type": "code",
   "execution_count": 1,
   "metadata": {},
   "outputs": [
    {
     "name": "stdout",
     "output_type": "stream",
     "text": [
      "{'name': 'Elon', 'id': 1}\n",
      "{'name': 'Eminem', 'id': 2}\n",
      "{'name': 'Lisa', 'id': 3}\n",
      "{'name': 'Valera', 'id': 4}\n",
      "[{'name': 'Elon', 'id': 1}, {'name': 'Eminem', 'id': 2}, {'name': 'Lisa', 'id': 3}, {'name': 'Valera', 'id': 4}]\n",
      "C:\\Users\\User\\PycharmProjects\\tensorFlowObjectDetection\\collectedimages\n",
      "C:\\Users\\User\\PycharmProjects\\tensorFlowObjectDetection\\TFRecognition\\YOLO\\YOLO_IMAGES\n"
     ]
    }
   ],
   "source": [
    "import os\n",
    "import Configuration.Config as config\n",
    "import TensorTrain as tt\n",
    "\n",
    "labels = tt.GetLabels()\n",
    "IMAGES_PATH = config.paths['COLLECTED_IMAGES_PATH']\n",
    "for label in labels:\n",
    "    print(label)\n",
    "print(labels)\n",
    "print(IMAGES_PATH)\n",
    "print(config.yolo['SAVE_IMAGE_PATH'])"
   ]
  },
  {
   "cell_type": "code",
   "execution_count": 6,
   "metadata": {},
   "outputs": [
    {
     "ename": "AttributeError",
     "evalue": "module 'os' has no attribute 'join'",
     "output_type": "error",
     "traceback": [
      "\u001B[1;31m---------------------------------------------------------------------------\u001B[0m",
      "\u001B[1;31mAttributeError\u001B[0m                            Traceback (most recent call last)",
      "Input \u001B[1;32mIn [6]\u001B[0m, in \u001B[0;36m<cell line: 2>\u001B[1;34m()\u001B[0m\n\u001B[0;32m      1\u001B[0m \u001B[38;5;28;01mimport\u001B[39;00m  \u001B[38;5;21;01mPicturePipeline\u001B[39;00m \u001B[38;5;28;01mas\u001B[39;00m \u001B[38;5;21;01mpp\u001B[39;00m\n\u001B[1;32m----> 2\u001B[0m \u001B[43mpp\u001B[49m\u001B[38;5;241;43m.\u001B[39;49m\u001B[43mCreateYOLOLabelClasses\u001B[49m\u001B[43m(\u001B[49m\u001B[43m)\u001B[49m\n",
      "File \u001B[1;32m~\\PycharmProjects\\tensorFlowObjectDetection\\PicturePipeline.py:75\u001B[0m, in \u001B[0;36mCreateYOLOLabelClasses\u001B[1;34m()\u001B[0m\n\u001B[0;32m     73\u001B[0m file_name \u001B[38;5;241m=\u001B[39m \u001B[38;5;124m\"\u001B[39m\u001B[38;5;124mclasses.txt\u001B[39m\u001B[38;5;124m\"\u001B[39m\n\u001B[0;32m     74\u001B[0m YOLO_LABELS_PATH \u001B[38;5;241m=\u001B[39m config\u001B[38;5;241m.\u001B[39myolo[\u001B[38;5;124m'\u001B[39m\u001B[38;5;124mSAVE_LABELS_PATH\u001B[39m\u001B[38;5;124m'\u001B[39m]\n\u001B[1;32m---> 75\u001B[0m YOLO_LABELS_FILE \u001B[38;5;241m=\u001B[39m \u001B[43mos\u001B[49m\u001B[38;5;241;43m.\u001B[39;49m\u001B[43mjoin\u001B[49m(YOLO_LABELS_PATH, file_name)\n\u001B[0;32m     77\u001B[0m \u001B[38;5;28;01mwith\u001B[39;00m \u001B[38;5;28mopen\u001B[39m(YOLO_LABELS_FILE, \u001B[38;5;124m\"\u001B[39m\u001B[38;5;124mw\u001B[39m\u001B[38;5;124m\"\u001B[39m) \u001B[38;5;28;01mas\u001B[39;00m file:\n\u001B[0;32m     78\u001B[0m     \u001B[38;5;28;01mfor\u001B[39;00m label \u001B[38;5;129;01min\u001B[39;00m labels:\n",
      "\u001B[1;31mAttributeError\u001B[0m: module 'os' has no attribute 'join'"
     ]
    }
   ],
   "source": [
    "import  PicturePipeline as pp\n",
    "pp.CreateYOLOLabelClasses()"
   ]
  },
  {
   "cell_type": "code",
   "execution_count": null,
   "metadata": {
    "pycharm": {
     "name": "#%%\n"
    }
   },
   "outputs": [],
   "source": []
  }
 ],
 "metadata": {
  "kernelspec": {
   "display_name": "Python 3 (ipykernel)",
   "language": "python",
   "name": "python3"
  },
  "language_info": {
   "codemirror_mode": {
    "name": "ipython",
    "version": 3
   },
   "file_extension": ".py",
   "mimetype": "text/x-python",
   "name": "python",
   "nbconvert_exporter": "python",
   "pygments_lexer": "ipython3",
   "version": "3.9.7"
  }
 },
 "nbformat": 4,
 "nbformat_minor": 1
}