{
 "cells": [
  {
   "cell_type": "markdown",
   "metadata": {},
   "source": [
    "# Run Manual Image Labelling, if needed"
   ]
  },
  {
   "cell_type": "code",
   "execution_count": 5,
   "metadata": {
    "pycharm": {
     "name": "#%%\n"
    }
   },
   "outputs": [
    {
     "name": "stdout",
     "output_type": "stream",
     "text": [
      "^C\n"
     ]
    }
   ],
   "source": [
    "import os\n",
    "import Configuration.Config as config\n",
    "LABELIMG_PATH = config.paths[\"LABELIMG_PATH\"]\n",
    "if os.name == 'posix':\n",
    "    !cd {LABELIMG_PATH} && pyrcc5 -o libs/resources.py resources.qrc && !make qt5py3\n",
    "if os.name =='nt':\n",
    "    !cd {LABELIMG_PATH} && pyrcc5 -o libs/resources.py resources.qrc\n",
    "!cd {LABELIMG_PATH} && python labelImg.py"
   ]
  },
  {
   "cell_type": "markdown",
   "metadata": {
    "pycharm": {
     "name": "#%% md\n"
    }
   },
   "source": [
    "# Dependency script"
   ]
  },
  {
   "cell_type": "code",
   "execution_count": null,
   "metadata": {
    "pycharm": {
     "name": "#%%\n"
    }
   },
   "outputs": [],
   "source": [
    "import PackageInstaller\n",
    "PackageInstaller.installDependencies()"
   ]
  },
  {
   "cell_type": "markdown",
   "metadata": {},
   "source": [
    "#  LabelMap Creation"
   ]
  },
  {
   "cell_type": "code",
   "execution_count": null,
   "metadata": {
    "pycharm": {
     "name": "#%%\n"
    }
   },
   "outputs": [],
   "source": [
    "import TensorTrain\n",
    "TensorTrain.Train()"
   ]
  },
  {
   "cell_type": "markdown",
   "metadata": {
    "pycharm": {
     "name": "#%% md\n"
    }
   },
   "source": [
    "# Installation of TensorFlow ObjectDetection"
   ]
  },
  {
   "cell_type": "code",
   "execution_count": 5,
   "metadata": {
    "pycharm": {
     "name": "#%%\n"
    }
   },
   "outputs": [
    {
     "name": "stdout",
     "output_type": "stream",
     "text": [
      "        1 file(s) moved.\n"
     ]
    },
    {
     "name": "stderr",
     "output_type": "stream",
     "text": [
      "The system cannot find the path specified.\n",
      "The system cannot find the path specified.\n"
     ]
    }
   ],
   "source": [
    "import wget\n",
    "import Configuration.Config as config\n",
    "import os\n",
    "if os.name=='posix':\n",
    "    !apt-get install protobuf-compiler\n",
    "    !cd Tensorflow/models/research && protoc object_detection/protos/*.proto --python_out=. && cp object_detection/packages/tf2/setup.py . && python -m pip install .\n",
    "\n",
    "if os.name=='nt':\n",
    "    url=\"https://github.com/protocolbuffers/protobuf/releases/download/v3.15.6/protoc-3.15.6-win64.zip\"\n",
    "    wget.download(url)\n",
    "    protocPath = config.paths['PROTOC_PATH']\n",
    "    !move protoc-3.15.6-win64.zip {protocPath}\n",
    "    !cd {protocPath} && tar -xf protoc-3.15.6-win64.zip\n",
    "    os.environ['PATH'] += os.pathsep + os.path.abspath(os.path.join(protocPath, 'bin'))\n",
    "    !cd Tensorflow/models/research && protoc object_detection/protos/*.proto --python_out=. && copy object_detection\\\\packages\\\\tf2\\\\setup.py setup.py && python setup.py build && python setup.py install\n",
    "    !cd Tensorflow/models/research/slim && pip install -e ."
   ]
  },
  {
   "cell_type": "markdown",
   "metadata": {
    "pycharm": {
     "name": "#%% md\n"
    }
   },
   "source": [
    "# Verification of objectDetection script"
   ]
  },
  {
   "cell_type": "code",
   "execution_count": 7,
   "metadata": {
    "pycharm": {
     "name": "#%%\n"
    }
   },
   "outputs": [
    {
     "name": "stderr",
     "output_type": "stream",
     "text": [
      "Running tests under Python 3.9.7: C:\\ProgramData\\Anaconda3\\envs\\tensorFlowObjectDetection\\python.exe\n",
      "[ RUN      ] ModelBuilderTF2Test.test_create_center_net_deepmac\n",
      "2022-04-07 12:18:45.964263: I tensorflow/core/platform/cpu_feature_guard.cc:142] This TensorFlow binary is optimized with oneAPI Deep Neural Network Library (oneDNN) to use the following CPU instructions in performance-critical operations:  AVX AVX2\n",
      "To enable them in other operations, rebuild TensorFlow with the appropriate compiler flags.\n",
      "2022-04-07 12:18:47.239515: I tensorflow/core/common_runtime/gpu/gpu_device.cc:1510] Created device /job:localhost/replica:0/task:0/device:GPU:0 with 5470 MB memory:  -> device: 0, name: NVIDIA GeForce RTX 3070, pci bus id: 0000:09:00.0, compute capability: 8.6\n",
      "C:\\ProgramData\\Anaconda3\\envs\\tensorFlowObjectDetection\\lib\\site-packages\\object_detection-0.1-py3.9.egg\\object_detection\\builders\\model_builder.py:1100: DeprecationWarning: The 'warn' function is deprecated, use 'warning' instead\n",
      "  logging.warn(('Building experimental DeepMAC meta-arch.'\n",
      "W0407 12:18:47.744309 18668 model_builder.py:1100] Building experimental DeepMAC meta-arch. Some features may be omitted.\n",
      "INFO:tensorflow:time(__main__.ModelBuilderTF2Test.test_create_center_net_deepmac): 2.06s\n",
      "I0407 12:18:48.009543 18668 test_util.py:2188] time(__main__.ModelBuilderTF2Test.test_create_center_net_deepmac): 2.06s\n",
      "[       OK ] ModelBuilderTF2Test.test_create_center_net_deepmac\n",
      "[ RUN      ] ModelBuilderTF2Test.test_create_center_net_model0 (customize_head_params=True)\n",
      "INFO:tensorflow:time(__main__.ModelBuilderTF2Test.test_create_center_net_model0 (customize_head_params=True)): 1.21s\n",
      "I0407 12:18:49.219619 18668 test_util.py:2188] time(__main__.ModelBuilderTF2Test.test_create_center_net_model0 (customize_head_params=True)): 1.21s\n",
      "[       OK ] ModelBuilderTF2Test.test_create_center_net_model0 (customize_head_params=True)\n",
      "[ RUN      ] ModelBuilderTF2Test.test_create_center_net_model1 (customize_head_params=False)\n",
      "INFO:tensorflow:time(__main__.ModelBuilderTF2Test.test_create_center_net_model1 (customize_head_params=False)): 0.37s\n",
      "I0407 12:18:49.593949 18668 test_util.py:2188] time(__main__.ModelBuilderTF2Test.test_create_center_net_model1 (customize_head_params=False)): 0.37s\n",
      "[       OK ] ModelBuilderTF2Test.test_create_center_net_model1 (customize_head_params=False)\n",
      "[ RUN      ] ModelBuilderTF2Test.test_create_center_net_model_from_keypoints\n",
      "INFO:tensorflow:time(__main__.ModelBuilderTF2Test.test_create_center_net_model_from_keypoints): 0.26s\n",
      "I0407 12:18:49.859181 18668 test_util.py:2188] time(__main__.ModelBuilderTF2Test.test_create_center_net_model_from_keypoints): 0.26s\n",
      "[       OK ] ModelBuilderTF2Test.test_create_center_net_model_from_keypoints\n",
      "[ RUN      ] ModelBuilderTF2Test.test_create_center_net_model_mobilenet\n",
      "INFO:tensorflow:time(__main__.ModelBuilderTF2Test.test_create_center_net_model_mobilenet): 1.57s\n",
      "I0407 12:18:51.430556 18668 test_util.py:2188] time(__main__.ModelBuilderTF2Test.test_create_center_net_model_mobilenet): 1.57s\n",
      "[       OK ] ModelBuilderTF2Test.test_create_center_net_model_mobilenet\n",
      "[ RUN      ] ModelBuilderTF2Test.test_create_experimental_model\n",
      "INFO:tensorflow:time(__main__.ModelBuilderTF2Test.test_create_experimental_model): 0.0s\n",
      "I0407 12:18:51.431557 18668 test_util.py:2188] time(__main__.ModelBuilderTF2Test.test_create_experimental_model): 0.0s\n",
      "[       OK ] ModelBuilderTF2Test.test_create_experimental_model\n",
      "[ RUN      ] ModelBuilderTF2Test.test_create_faster_rcnn_from_config_with_crop_feature0 (True)\n",
      "INFO:tensorflow:time(__main__.ModelBuilderTF2Test.test_create_faster_rcnn_from_config_with_crop_feature0 (True)): 0.14s\n",
      "I0407 12:18:51.571681 18668 test_util.py:2188] time(__main__.ModelBuilderTF2Test.test_create_faster_rcnn_from_config_with_crop_feature0 (True)): 0.14s\n",
      "[       OK ] ModelBuilderTF2Test.test_create_faster_rcnn_from_config_with_crop_feature0 (True)\n",
      "[ RUN      ] ModelBuilderTF2Test.test_create_faster_rcnn_from_config_with_crop_feature1 (False)\n",
      "INFO:tensorflow:time(__main__.ModelBuilderTF2Test.test_create_faster_rcnn_from_config_with_crop_feature1 (False)): 0.02s\n",
      "I0407 12:18:51.586694 18668 test_util.py:2188] time(__main__.ModelBuilderTF2Test.test_create_faster_rcnn_from_config_with_crop_feature1 (False)): 0.02s\n",
      "[       OK ] ModelBuilderTF2Test.test_create_faster_rcnn_from_config_with_crop_feature1 (False)\n",
      "[ RUN      ] ModelBuilderTF2Test.test_create_faster_rcnn_model_from_config_with_example_miner\n",
      "INFO:tensorflow:time(__main__.ModelBuilderTF2Test.test_create_faster_rcnn_model_from_config_with_example_miner): 0.01s\n",
      "I0407 12:18:51.601707 18668 test_util.py:2188] time(__main__.ModelBuilderTF2Test.test_create_faster_rcnn_model_from_config_with_example_miner): 0.01s\n",
      "[       OK ] ModelBuilderTF2Test.test_create_faster_rcnn_model_from_config_with_example_miner\n",
      "[ RUN      ] ModelBuilderTF2Test.test_create_faster_rcnn_models_from_config_faster_rcnn_with_matmul\n",
      "INFO:tensorflow:time(__main__.ModelBuilderTF2Test.test_create_faster_rcnn_models_from_config_faster_rcnn_with_matmul): 0.1s\n",
      "I0407 12:18:51.698793 18668 test_util.py:2188] time(__main__.ModelBuilderTF2Test.test_create_faster_rcnn_models_from_config_faster_rcnn_with_matmul): 0.1s\n",
      "[       OK ] ModelBuilderTF2Test.test_create_faster_rcnn_models_from_config_faster_rcnn_with_matmul\n",
      "[ RUN      ] ModelBuilderTF2Test.test_create_faster_rcnn_models_from_config_faster_rcnn_without_matmul\n",
      "INFO:tensorflow:time(__main__.ModelBuilderTF2Test.test_create_faster_rcnn_models_from_config_faster_rcnn_without_matmul): 0.09s\n",
      "I0407 12:18:51.791875 18668 test_util.py:2188] time(__main__.ModelBuilderTF2Test.test_create_faster_rcnn_models_from_config_faster_rcnn_without_matmul): 0.09s\n",
      "[       OK ] ModelBuilderTF2Test.test_create_faster_rcnn_models_from_config_faster_rcnn_without_matmul\n",
      "[ RUN      ] ModelBuilderTF2Test.test_create_faster_rcnn_models_from_config_mask_rcnn_with_matmul\n",
      "INFO:tensorflow:time(__main__.ModelBuilderTF2Test.test_create_faster_rcnn_models_from_config_mask_rcnn_with_matmul): 0.1s\n",
      "I0407 12:18:51.890971 18668 test_util.py:2188] time(__main__.ModelBuilderTF2Test.test_create_faster_rcnn_models_from_config_mask_rcnn_with_matmul): 0.1s\n",
      "[       OK ] ModelBuilderTF2Test.test_create_faster_rcnn_models_from_config_mask_rcnn_with_matmul\n",
      "[ RUN      ] ModelBuilderTF2Test.test_create_faster_rcnn_models_from_config_mask_rcnn_without_matmul\n",
      "INFO:tensorflow:time(__main__.ModelBuilderTF2Test.test_create_faster_rcnn_models_from_config_mask_rcnn_without_matmul): 0.1s\n",
      "I0407 12:18:51.989059 18668 test_util.py:2188] time(__main__.ModelBuilderTF2Test.test_create_faster_rcnn_models_from_config_mask_rcnn_without_matmul): 0.1s\n",
      "[       OK ] ModelBuilderTF2Test.test_create_faster_rcnn_models_from_config_mask_rcnn_without_matmul\n",
      "[ RUN      ] ModelBuilderTF2Test.test_create_rfcn_model_from_config\n",
      "INFO:tensorflow:time(__main__.ModelBuilderTF2Test.test_create_rfcn_model_from_config): 0.1s\n",
      "I0407 12:18:52.084143 18668 test_util.py:2188] time(__main__.ModelBuilderTF2Test.test_create_rfcn_model_from_config): 0.1s\n",
      "[       OK ] ModelBuilderTF2Test.test_create_rfcn_model_from_config\n",
      "[ RUN      ] ModelBuilderTF2Test.test_create_ssd_fpn_model_from_config\n",
      "INFO:tensorflow:time(__main__.ModelBuilderTF2Test.test_create_ssd_fpn_model_from_config): 0.03s\n",
      "I0407 12:18:52.111156 18668 test_util.py:2188] time(__main__.ModelBuilderTF2Test.test_create_ssd_fpn_model_from_config): 0.03s\n",
      "[       OK ] ModelBuilderTF2Test.test_create_ssd_fpn_model_from_config\n",
      "[ RUN      ] ModelBuilderTF2Test.test_create_ssd_models_from_config\n",
      "I0407 12:18:52.287320 18668 ssd_efficientnet_bifpn_feature_extractor.py:142] EfficientDet EfficientNet backbone version: efficientnet-b0\n",
      "I0407 12:18:52.287320 18668 ssd_efficientnet_bifpn_feature_extractor.py:144] EfficientDet BiFPN num filters: 64\n",
      "I0407 12:18:52.287320 18668 ssd_efficientnet_bifpn_feature_extractor.py:145] EfficientDet BiFPN num iterations: 3\n",
      "I0407 12:18:52.289324 18668 efficientnet_model.py:147] round_filter input=32 output=32\n",
      "I0407 12:18:52.305336 18668 efficientnet_model.py:147] round_filter input=32 output=32\n",
      "I0407 12:18:52.305336 18668 efficientnet_model.py:147] round_filter input=16 output=16\n",
      "I0407 12:18:52.362388 18668 efficientnet_model.py:147] round_filter input=16 output=16\n",
      "I0407 12:18:52.362388 18668 efficientnet_model.py:147] round_filter input=24 output=24\n",
      "I0407 12:18:52.499507 18668 efficientnet_model.py:147] round_filter input=24 output=24\n",
      "I0407 12:18:52.499507 18668 efficientnet_model.py:147] round_filter input=40 output=40\n",
      "I0407 12:18:52.639849 18668 efficientnet_model.py:147] round_filter input=40 output=40\n",
      "I0407 12:18:52.640623 18668 efficientnet_model.py:147] round_filter input=80 output=80\n",
      "I0407 12:18:52.851818 18668 efficientnet_model.py:147] round_filter input=80 output=80\n",
      "I0407 12:18:52.851818 18668 efficientnet_model.py:147] round_filter input=112 output=112\n",
      "I0407 12:18:53.062995 18668 efficientnet_model.py:147] round_filter input=112 output=112\n",
      "I0407 12:18:53.062995 18668 efficientnet_model.py:147] round_filter input=192 output=192\n",
      "I0407 12:18:53.338246 18668 efficientnet_model.py:147] round_filter input=192 output=192\n",
      "I0407 12:18:53.338246 18668 efficientnet_model.py:147] round_filter input=320 output=320\n",
      "I0407 12:18:53.408309 18668 efficientnet_model.py:147] round_filter input=1280 output=1280\n",
      "I0407 12:18:53.434332 18668 efficientnet_model.py:458] Building model efficientnet with params ModelConfig(width_coefficient=1.0, depth_coefficient=1.0, resolution=224, dropout_rate=0.2, blocks=(BlockConfig(input_filters=32, output_filters=16, kernel_size=3, num_repeat=1, expand_ratio=1, strides=(1, 1), se_ratio=0.25, id_skip=True, fused_conv=False, conv_type='depthwise'), BlockConfig(input_filters=16, output_filters=24, kernel_size=3, num_repeat=2, expand_ratio=6, strides=(2, 2), se_ratio=0.25, id_skip=True, fused_conv=False, conv_type='depthwise'), BlockConfig(input_filters=24, output_filters=40, kernel_size=5, num_repeat=2, expand_ratio=6, strides=(2, 2), se_ratio=0.25, id_skip=True, fused_conv=False, conv_type='depthwise'), BlockConfig(input_filters=40, output_filters=80, kernel_size=3, num_repeat=3, expand_ratio=6, strides=(2, 2), se_ratio=0.25, id_skip=True, fused_conv=False, conv_type='depthwise'), BlockConfig(input_filters=80, output_filters=112, kernel_size=5, num_repeat=3, expand_ratio=6, strides=(1, 1), se_ratio=0.25, id_skip=True, fused_conv=False, conv_type='depthwise'), BlockConfig(input_filters=112, output_filters=192, kernel_size=5, num_repeat=4, expand_ratio=6, strides=(2, 2), se_ratio=0.25, id_skip=True, fused_conv=False, conv_type='depthwise'), BlockConfig(input_filters=192, output_filters=320, kernel_size=3, num_repeat=1, expand_ratio=6, strides=(1, 1), se_ratio=0.25, id_skip=True, fused_conv=False, conv_type='depthwise')), stem_base_filters=32, top_base_filters=1280, activation='simple_swish', batch_norm='default', bn_momentum=0.99, bn_epsilon=0.001, weight_decay=5e-06, drop_connect_rate=0.2, depth_divisor=8, min_depth=None, use_se=True, input_channels=3, num_classes=1000, model_name='efficientnet', rescale_input=False, data_format='channels_last', dtype='float32')\n",
      "I0407 12:18:53.490380 18668 ssd_efficientnet_bifpn_feature_extractor.py:142] EfficientDet EfficientNet backbone version: efficientnet-b1\n",
      "I0407 12:18:53.490380 18668 ssd_efficientnet_bifpn_feature_extractor.py:144] EfficientDet BiFPN num filters: 88\n",
      "I0407 12:18:53.490380 18668 ssd_efficientnet_bifpn_feature_extractor.py:145] EfficientDet BiFPN num iterations: 4\n",
      "I0407 12:18:53.492383 18668 efficientnet_model.py:147] round_filter input=32 output=32\n",
      "I0407 12:18:53.506394 18668 efficientnet_model.py:147] round_filter input=32 output=32\n",
      "I0407 12:18:53.506394 18668 efficientnet_model.py:147] round_filter input=16 output=16\n",
      "I0407 12:18:53.615491 18668 efficientnet_model.py:147] round_filter input=16 output=16\n",
      "I0407 12:18:53.615491 18668 efficientnet_model.py:147] round_filter input=24 output=24\n",
      "I0407 12:18:53.821680 18668 efficientnet_model.py:147] round_filter input=24 output=24\n",
      "I0407 12:18:53.822681 18668 efficientnet_model.py:147] round_filter input=40 output=40\n",
      "I0407 12:18:54.125940 18668 efficientnet_model.py:147] round_filter input=40 output=40\n",
      "I0407 12:18:54.126950 18668 efficientnet_model.py:147] round_filter input=80 output=80\n",
      "I0407 12:18:54.404187 18668 efficientnet_model.py:147] round_filter input=80 output=80\n",
      "I0407 12:18:54.404187 18668 efficientnet_model.py:147] round_filter input=112 output=112\n",
      "I0407 12:18:54.679428 18668 efficientnet_model.py:147] round_filter input=112 output=112\n",
      "I0407 12:18:54.680429 18668 efficientnet_model.py:147] round_filter input=192 output=192\n",
      "I0407 12:18:55.024741 18668 efficientnet_model.py:147] round_filter input=192 output=192\n",
      "I0407 12:18:55.024741 18668 efficientnet_model.py:147] round_filter input=320 output=320\n",
      "I0407 12:18:55.164864 18668 efficientnet_model.py:147] round_filter input=1280 output=1280\n",
      "I0407 12:18:55.189879 18668 efficientnet_model.py:458] Building model efficientnet with params ModelConfig(width_coefficient=1.0, depth_coefficient=1.1, resolution=240, dropout_rate=0.2, blocks=(BlockConfig(input_filters=32, output_filters=16, kernel_size=3, num_repeat=1, expand_ratio=1, strides=(1, 1), se_ratio=0.25, id_skip=True, fused_conv=False, conv_type='depthwise'), BlockConfig(input_filters=16, output_filters=24, kernel_size=3, num_repeat=2, expand_ratio=6, strides=(2, 2), se_ratio=0.25, id_skip=True, fused_conv=False, conv_type='depthwise'), BlockConfig(input_filters=24, output_filters=40, kernel_size=5, num_repeat=2, expand_ratio=6, strides=(2, 2), se_ratio=0.25, id_skip=True, fused_conv=False, conv_type='depthwise'), BlockConfig(input_filters=40, output_filters=80, kernel_size=3, num_repeat=3, expand_ratio=6, strides=(2, 2), se_ratio=0.25, id_skip=True, fused_conv=False, conv_type='depthwise'), BlockConfig(input_filters=80, output_filters=112, kernel_size=5, num_repeat=3, expand_ratio=6, strides=(1, 1), se_ratio=0.25, id_skip=True, fused_conv=False, conv_type='depthwise'), BlockConfig(input_filters=112, output_filters=192, kernel_size=5, num_repeat=4, expand_ratio=6, strides=(2, 2), se_ratio=0.25, id_skip=True, fused_conv=False, conv_type='depthwise'), BlockConfig(input_filters=192, output_filters=320, kernel_size=3, num_repeat=1, expand_ratio=6, strides=(1, 1), se_ratio=0.25, id_skip=True, fused_conv=False, conv_type='depthwise')), stem_base_filters=32, top_base_filters=1280, activation='simple_swish', batch_norm='default', bn_momentum=0.99, bn_epsilon=0.001, weight_decay=5e-06, drop_connect_rate=0.2, depth_divisor=8, min_depth=None, use_se=True, input_channels=3, num_classes=1000, model_name='efficientnet', rescale_input=False, data_format='channels_last', dtype='float32')\n",
      "I0407 12:18:55.257939 18668 ssd_efficientnet_bifpn_feature_extractor.py:142] EfficientDet EfficientNet backbone version: efficientnet-b2\n",
      "I0407 12:18:55.257939 18668 ssd_efficientnet_bifpn_feature_extractor.py:144] EfficientDet BiFPN num filters: 112\n",
      "I0407 12:18:55.257939 18668 ssd_efficientnet_bifpn_feature_extractor.py:145] EfficientDet BiFPN num iterations: 5\n",
      "I0407 12:18:55.259941 18668 efficientnet_model.py:147] round_filter input=32 output=32\n",
      "I0407 12:18:55.273953 18668 efficientnet_model.py:147] round_filter input=32 output=32\n",
      "I0407 12:18:55.273953 18668 efficientnet_model.py:147] round_filter input=16 output=16\n",
      "I0407 12:18:55.382048 18668 efficientnet_model.py:147] round_filter input=16 output=16\n",
      "I0407 12:18:55.382048 18668 efficientnet_model.py:147] round_filter input=24 output=24\n",
      "I0407 12:18:55.589221 18668 efficientnet_model.py:147] round_filter input=24 output=24\n",
      "I0407 12:18:55.589221 18668 efficientnet_model.py:147] round_filter input=40 output=48\n",
      "I0407 12:18:55.795413 18668 efficientnet_model.py:147] round_filter input=40 output=48\n",
      "I0407 12:18:55.796412 18668 efficientnet_model.py:147] round_filter input=80 output=88\n",
      "I0407 12:18:56.070662 18668 efficientnet_model.py:147] round_filter input=80 output=88\n",
      "I0407 12:18:56.070662 18668 efficientnet_model.py:147] round_filter input=112 output=120\n",
      "I0407 12:18:56.349900 18668 efficientnet_model.py:147] round_filter input=112 output=120\n",
      "I0407 12:18:56.349900 18668 efficientnet_model.py:147] round_filter input=192 output=208\n",
      "I0407 12:18:56.694194 18668 efficientnet_model.py:147] round_filter input=192 output=208\n",
      "I0407 12:18:56.694194 18668 efficientnet_model.py:147] round_filter input=320 output=352\n",
      "I0407 12:18:56.831324 18668 efficientnet_model.py:147] round_filter input=1280 output=1408\n",
      "I0407 12:18:56.858349 18668 efficientnet_model.py:458] Building model efficientnet with params ModelConfig(width_coefficient=1.1, depth_coefficient=1.2, resolution=260, dropout_rate=0.3, blocks=(BlockConfig(input_filters=32, output_filters=16, kernel_size=3, num_repeat=1, expand_ratio=1, strides=(1, 1), se_ratio=0.25, id_skip=True, fused_conv=False, conv_type='depthwise'), BlockConfig(input_filters=16, output_filters=24, kernel_size=3, num_repeat=2, expand_ratio=6, strides=(2, 2), se_ratio=0.25, id_skip=True, fused_conv=False, conv_type='depthwise'), BlockConfig(input_filters=24, output_filters=40, kernel_size=5, num_repeat=2, expand_ratio=6, strides=(2, 2), se_ratio=0.25, id_skip=True, fused_conv=False, conv_type='depthwise'), BlockConfig(input_filters=40, output_filters=80, kernel_size=3, num_repeat=3, expand_ratio=6, strides=(2, 2), se_ratio=0.25, id_skip=True, fused_conv=False, conv_type='depthwise'), BlockConfig(input_filters=80, output_filters=112, kernel_size=5, num_repeat=3, expand_ratio=6, strides=(1, 1), se_ratio=0.25, id_skip=True, fused_conv=False, conv_type='depthwise'), BlockConfig(input_filters=112, output_filters=192, kernel_size=5, num_repeat=4, expand_ratio=6, strides=(2, 2), se_ratio=0.25, id_skip=True, fused_conv=False, conv_type='depthwise'), BlockConfig(input_filters=192, output_filters=320, kernel_size=3, num_repeat=1, expand_ratio=6, strides=(1, 1), se_ratio=0.25, id_skip=True, fused_conv=False, conv_type='depthwise')), stem_base_filters=32, top_base_filters=1280, activation='simple_swish', batch_norm='default', bn_momentum=0.99, bn_epsilon=0.001, weight_decay=5e-06, drop_connect_rate=0.2, depth_divisor=8, min_depth=None, use_se=True, input_channels=3, num_classes=1000, model_name='efficientnet', rescale_input=False, data_format='channels_last', dtype='float32')\n",
      "I0407 12:18:56.925406 18668 ssd_efficientnet_bifpn_feature_extractor.py:142] EfficientDet EfficientNet backbone version: efficientnet-b3\n",
      "I0407 12:18:56.925406 18668 ssd_efficientnet_bifpn_feature_extractor.py:144] EfficientDet BiFPN num filters: 160\n",
      "I0407 12:18:56.925406 18668 ssd_efficientnet_bifpn_feature_extractor.py:145] EfficientDet BiFPN num iterations: 6\n",
      "I0407 12:18:56.927400 18668 efficientnet_model.py:147] round_filter input=32 output=40\n",
      "I0407 12:18:56.942421 18668 efficientnet_model.py:147] round_filter input=32 output=40\n",
      "I0407 12:18:56.942421 18668 efficientnet_model.py:147] round_filter input=16 output=24\n",
      "I0407 12:18:57.051517 18668 efficientnet_model.py:147] round_filter input=16 output=24\n",
      "I0407 12:18:57.051517 18668 efficientnet_model.py:147] round_filter input=24 output=32\n",
      "I0407 12:18:57.257708 18668 efficientnet_model.py:147] round_filter input=24 output=32\n",
      "I0407 12:18:57.257708 18668 efficientnet_model.py:147] round_filter input=40 output=48\n",
      "I0407 12:18:57.650045 18668 efficientnet_model.py:147] round_filter input=40 output=48\n",
      "I0407 12:18:57.650045 18668 efficientnet_model.py:147] round_filter input=80 output=96\n",
      "I0407 12:18:57.997351 18668 efficientnet_model.py:147] round_filter input=80 output=96\n",
      "I0407 12:18:57.997351 18668 efficientnet_model.py:147] round_filter input=112 output=136\n",
      "I0407 12:18:58.342655 18668 efficientnet_model.py:147] round_filter input=112 output=136\n",
      "I0407 12:18:58.342655 18668 efficientnet_model.py:147] round_filter input=192 output=232\n",
      "I0407 12:18:58.764028 18668 efficientnet_model.py:147] round_filter input=192 output=232\n",
      "I0407 12:18:58.764028 18668 efficientnet_model.py:147] round_filter input=320 output=384\n",
      "I0407 12:18:58.901138 18668 efficientnet_model.py:147] round_filter input=1280 output=1536\n",
      "I0407 12:18:58.926169 18668 efficientnet_model.py:458] Building model efficientnet with params ModelConfig(width_coefficient=1.2, depth_coefficient=1.4, resolution=300, dropout_rate=0.3, blocks=(BlockConfig(input_filters=32, output_filters=16, kernel_size=3, num_repeat=1, expand_ratio=1, strides=(1, 1), se_ratio=0.25, id_skip=True, fused_conv=False, conv_type='depthwise'), BlockConfig(input_filters=16, output_filters=24, kernel_size=3, num_repeat=2, expand_ratio=6, strides=(2, 2), se_ratio=0.25, id_skip=True, fused_conv=False, conv_type='depthwise'), BlockConfig(input_filters=24, output_filters=40, kernel_size=5, num_repeat=2, expand_ratio=6, strides=(2, 2), se_ratio=0.25, id_skip=True, fused_conv=False, conv_type='depthwise'), BlockConfig(input_filters=40, output_filters=80, kernel_size=3, num_repeat=3, expand_ratio=6, strides=(2, 2), se_ratio=0.25, id_skip=True, fused_conv=False, conv_type='depthwise'), BlockConfig(input_filters=80, output_filters=112, kernel_size=5, num_repeat=3, expand_ratio=6, strides=(1, 1), se_ratio=0.25, id_skip=True, fused_conv=False, conv_type='depthwise'), BlockConfig(input_filters=112, output_filters=192, kernel_size=5, num_repeat=4, expand_ratio=6, strides=(2, 2), se_ratio=0.25, id_skip=True, fused_conv=False, conv_type='depthwise'), BlockConfig(input_filters=192, output_filters=320, kernel_size=3, num_repeat=1, expand_ratio=6, strides=(1, 1), se_ratio=0.25, id_skip=True, fused_conv=False, conv_type='depthwise')), stem_base_filters=32, top_base_filters=1280, activation='simple_swish', batch_norm='default', bn_momentum=0.99, bn_epsilon=0.001, weight_decay=5e-06, drop_connect_rate=0.2, depth_divisor=8, min_depth=None, use_se=True, input_channels=3, num_classes=1000, model_name='efficientnet', rescale_input=False, data_format='channels_last', dtype='float32')\n",
      "I0407 12:18:59.000235 18668 ssd_efficientnet_bifpn_feature_extractor.py:142] EfficientDet EfficientNet backbone version: efficientnet-b4\n",
      "I0407 12:18:59.000235 18668 ssd_efficientnet_bifpn_feature_extractor.py:144] EfficientDet BiFPN num filters: 224\n",
      "I0407 12:18:59.000235 18668 ssd_efficientnet_bifpn_feature_extractor.py:145] EfficientDet BiFPN num iterations: 7\n",
      "I0407 12:18:59.002238 18668 efficientnet_model.py:147] round_filter input=32 output=48\n",
      "I0407 12:18:59.017251 18668 efficientnet_model.py:147] round_filter input=32 output=48\n",
      "I0407 12:18:59.018252 18668 efficientnet_model.py:147] round_filter input=16 output=24\n",
      "I0407 12:18:59.127337 18668 efficientnet_model.py:147] round_filter input=16 output=24\n",
      "I0407 12:18:59.127337 18668 efficientnet_model.py:147] round_filter input=24 output=32\n",
      "I0407 12:18:59.407585 18668 efficientnet_model.py:147] round_filter input=24 output=32\n",
      "I0407 12:18:59.407585 18668 efficientnet_model.py:147] round_filter input=40 output=56\n",
      "I0407 12:18:59.694839 18668 efficientnet_model.py:147] round_filter input=40 output=56\n",
      "I0407 12:18:59.695839 18668 efficientnet_model.py:147] round_filter input=80 output=112\n",
      "I0407 12:19:00.127218 18668 efficientnet_model.py:147] round_filter input=80 output=112\n",
      "I0407 12:19:00.127218 18668 efficientnet_model.py:147] round_filter input=112 output=160\n",
      "I0407 12:19:00.558615 18668 efficientnet_model.py:147] round_filter input=112 output=160\n",
      "I0407 12:19:00.559601 18668 efficientnet_model.py:147] round_filter input=192 output=272\n",
      "I0407 12:19:01.132113 18668 efficientnet_model.py:147] round_filter input=192 output=272\n",
      "I0407 12:19:01.132113 18668 efficientnet_model.py:147] round_filter input=320 output=448\n",
      "I0407 12:19:01.270236 18668 efficientnet_model.py:147] round_filter input=1280 output=1792\n",
      "I0407 12:19:01.463395 18668 efficientnet_model.py:458] Building model efficientnet with params ModelConfig(width_coefficient=1.4, depth_coefficient=1.8, resolution=380, dropout_rate=0.4, blocks=(BlockConfig(input_filters=32, output_filters=16, kernel_size=3, num_repeat=1, expand_ratio=1, strides=(1, 1), se_ratio=0.25, id_skip=True, fused_conv=False, conv_type='depthwise'), BlockConfig(input_filters=16, output_filters=24, kernel_size=3, num_repeat=2, expand_ratio=6, strides=(2, 2), se_ratio=0.25, id_skip=True, fused_conv=False, conv_type='depthwise'), BlockConfig(input_filters=24, output_filters=40, kernel_size=5, num_repeat=2, expand_ratio=6, strides=(2, 2), se_ratio=0.25, id_skip=True, fused_conv=False, conv_type='depthwise'), BlockConfig(input_filters=40, output_filters=80, kernel_size=3, num_repeat=3, expand_ratio=6, strides=(2, 2), se_ratio=0.25, id_skip=True, fused_conv=False, conv_type='depthwise'), BlockConfig(input_filters=80, output_filters=112, kernel_size=5, num_repeat=3, expand_ratio=6, strides=(1, 1), se_ratio=0.25, id_skip=True, fused_conv=False, conv_type='depthwise'), BlockConfig(input_filters=112, output_filters=192, kernel_size=5, num_repeat=4, expand_ratio=6, strides=(2, 2), se_ratio=0.25, id_skip=True, fused_conv=False, conv_type='depthwise'), BlockConfig(input_filters=192, output_filters=320, kernel_size=3, num_repeat=1, expand_ratio=6, strides=(1, 1), se_ratio=0.25, id_skip=True, fused_conv=False, conv_type='depthwise')), stem_base_filters=32, top_base_filters=1280, activation='simple_swish', batch_norm='default', bn_momentum=0.99, bn_epsilon=0.001, weight_decay=5e-06, drop_connect_rate=0.2, depth_divisor=8, min_depth=None, use_se=True, input_channels=3, num_classes=1000, model_name='efficientnet', rescale_input=False, data_format='channels_last', dtype='float32')\n",
      "I0407 12:19:01.548470 18668 ssd_efficientnet_bifpn_feature_extractor.py:142] EfficientDet EfficientNet backbone version: efficientnet-b5\n",
      "I0407 12:19:01.548470 18668 ssd_efficientnet_bifpn_feature_extractor.py:144] EfficientDet BiFPN num filters: 288\n",
      "I0407 12:19:01.548470 18668 ssd_efficientnet_bifpn_feature_extractor.py:145] EfficientDet BiFPN num iterations: 7\n",
      "I0407 12:19:01.550481 18668 efficientnet_model.py:147] round_filter input=32 output=48\n",
      "I0407 12:19:01.564485 18668 efficientnet_model.py:147] round_filter input=32 output=48\n",
      "I0407 12:19:01.565495 18668 efficientnet_model.py:147] round_filter input=16 output=24\n",
      "I0407 12:19:01.739639 18668 efficientnet_model.py:147] round_filter input=16 output=24\n",
      "I0407 12:19:01.739639 18668 efficientnet_model.py:147] round_filter input=24 output=40\n",
      "I0407 12:19:02.091950 18668 efficientnet_model.py:147] round_filter input=24 output=40\n",
      "I0407 12:19:02.091950 18668 efficientnet_model.py:147] round_filter input=40 output=64\n",
      "I0407 12:19:02.441266 18668 efficientnet_model.py:147] round_filter input=40 output=64\n",
      "I0407 12:19:02.441266 18668 efficientnet_model.py:147] round_filter input=80 output=128\n",
      "I0407 12:19:02.946702 18668 efficientnet_model.py:147] round_filter input=80 output=128\n",
      "I0407 12:19:02.946702 18668 efficientnet_model.py:147] round_filter input=112 output=176\n",
      "I0407 12:19:03.438144 18668 efficientnet_model.py:147] round_filter input=112 output=176\n",
      "I0407 12:19:03.438144 18668 efficientnet_model.py:147] round_filter input=192 output=304\n",
      "I0407 12:19:04.076715 18668 efficientnet_model.py:147] round_filter input=192 output=304\n",
      "I0407 12:19:04.076715 18668 efficientnet_model.py:147] round_filter input=320 output=512\n",
      "I0407 12:19:04.283889 18668 efficientnet_model.py:147] round_filter input=1280 output=2048\n",
      "I0407 12:19:04.308911 18668 efficientnet_model.py:458] Building model efficientnet with params ModelConfig(width_coefficient=1.6, depth_coefficient=2.2, resolution=456, dropout_rate=0.4, blocks=(BlockConfig(input_filters=32, output_filters=16, kernel_size=3, num_repeat=1, expand_ratio=1, strides=(1, 1), se_ratio=0.25, id_skip=True, fused_conv=False, conv_type='depthwise'), BlockConfig(input_filters=16, output_filters=24, kernel_size=3, num_repeat=2, expand_ratio=6, strides=(2, 2), se_ratio=0.25, id_skip=True, fused_conv=False, conv_type='depthwise'), BlockConfig(input_filters=24, output_filters=40, kernel_size=5, num_repeat=2, expand_ratio=6, strides=(2, 2), se_ratio=0.25, id_skip=True, fused_conv=False, conv_type='depthwise'), BlockConfig(input_filters=40, output_filters=80, kernel_size=3, num_repeat=3, expand_ratio=6, strides=(2, 2), se_ratio=0.25, id_skip=True, fused_conv=False, conv_type='depthwise'), BlockConfig(input_filters=80, output_filters=112, kernel_size=5, num_repeat=3, expand_ratio=6, strides=(1, 1), se_ratio=0.25, id_skip=True, fused_conv=False, conv_type='depthwise'), BlockConfig(input_filters=112, output_filters=192, kernel_size=5, num_repeat=4, expand_ratio=6, strides=(2, 2), se_ratio=0.25, id_skip=True, fused_conv=False, conv_type='depthwise'), BlockConfig(input_filters=192, output_filters=320, kernel_size=3, num_repeat=1, expand_ratio=6, strides=(1, 1), se_ratio=0.25, id_skip=True, fused_conv=False, conv_type='depthwise')), stem_base_filters=32, top_base_filters=1280, activation='simple_swish', batch_norm='default', bn_momentum=0.99, bn_epsilon=0.001, weight_decay=5e-06, drop_connect_rate=0.2, depth_divisor=8, min_depth=None, use_se=True, input_channels=3, num_classes=1000, model_name='efficientnet', rescale_input=False, data_format='channels_last', dtype='float32')\n",
      "I0407 12:19:04.410993 18668 ssd_efficientnet_bifpn_feature_extractor.py:142] EfficientDet EfficientNet backbone version: efficientnet-b6\n",
      "I0407 12:19:04.410993 18668 ssd_efficientnet_bifpn_feature_extractor.py:144] EfficientDet BiFPN num filters: 384\n",
      "I0407 12:19:04.412003 18668 ssd_efficientnet_bifpn_feature_extractor.py:145] EfficientDet BiFPN num iterations: 8\n",
      "I0407 12:19:04.413004 18668 efficientnet_model.py:147] round_filter input=32 output=56\n",
      "I0407 12:19:04.428018 18668 efficientnet_model.py:147] round_filter input=32 output=56\n",
      "I0407 12:19:04.428018 18668 efficientnet_model.py:147] round_filter input=16 output=32\n",
      "I0407 12:19:04.591160 18668 efficientnet_model.py:147] round_filter input=16 output=32\n",
      "I0407 12:19:04.592160 18668 efficientnet_model.py:147] round_filter input=24 output=40\n",
      "I0407 12:19:05.010520 18668 efficientnet_model.py:147] round_filter input=24 output=40\n",
      "I0407 12:19:05.010520 18668 efficientnet_model.py:147] round_filter input=40 output=72\n",
      "I0407 12:19:05.428898 18668 efficientnet_model.py:147] round_filter input=40 output=72\n",
      "I0407 12:19:05.428898 18668 efficientnet_model.py:147] round_filter input=80 output=144\n",
      "I0407 12:19:06.225608 18668 efficientnet_model.py:147] round_filter input=80 output=144\n",
      "I0407 12:19:06.225608 18668 efficientnet_model.py:147] round_filter input=112 output=200\n",
      "I0407 12:19:06.784093 18668 efficientnet_model.py:147] round_filter input=112 output=200\n",
      "I0407 12:19:06.784093 18668 efficientnet_model.py:147] round_filter input=192 output=344\n",
      "I0407 12:19:07.545764 18668 efficientnet_model.py:147] round_filter input=192 output=344\n",
      "I0407 12:19:07.545764 18668 efficientnet_model.py:147] round_filter input=320 output=576\n",
      "I0407 12:19:07.754938 18668 efficientnet_model.py:147] round_filter input=1280 output=2304\n",
      "I0407 12:19:07.781971 18668 efficientnet_model.py:458] Building model efficientnet with params ModelConfig(width_coefficient=1.8, depth_coefficient=2.6, resolution=528, dropout_rate=0.5, blocks=(BlockConfig(input_filters=32, output_filters=16, kernel_size=3, num_repeat=1, expand_ratio=1, strides=(1, 1), se_ratio=0.25, id_skip=True, fused_conv=False, conv_type='depthwise'), BlockConfig(input_filters=16, output_filters=24, kernel_size=3, num_repeat=2, expand_ratio=6, strides=(2, 2), se_ratio=0.25, id_skip=True, fused_conv=False, conv_type='depthwise'), BlockConfig(input_filters=24, output_filters=40, kernel_size=5, num_repeat=2, expand_ratio=6, strides=(2, 2), se_ratio=0.25, id_skip=True, fused_conv=False, conv_type='depthwise'), BlockConfig(input_filters=40, output_filters=80, kernel_size=3, num_repeat=3, expand_ratio=6, strides=(2, 2), se_ratio=0.25, id_skip=True, fused_conv=False, conv_type='depthwise'), BlockConfig(input_filters=80, output_filters=112, kernel_size=5, num_repeat=3, expand_ratio=6, strides=(1, 1), se_ratio=0.25, id_skip=True, fused_conv=False, conv_type='depthwise'), BlockConfig(input_filters=112, output_filters=192, kernel_size=5, num_repeat=4, expand_ratio=6, strides=(2, 2), se_ratio=0.25, id_skip=True, fused_conv=False, conv_type='depthwise'), BlockConfig(input_filters=192, output_filters=320, kernel_size=3, num_repeat=1, expand_ratio=6, strides=(1, 1), se_ratio=0.25, id_skip=True, fused_conv=False, conv_type='depthwise')), stem_base_filters=32, top_base_filters=1280, activation='simple_swish', batch_norm='default', bn_momentum=0.99, bn_epsilon=0.001, weight_decay=5e-06, drop_connect_rate=0.2, depth_divisor=8, min_depth=None, use_se=True, input_channels=3, num_classes=1000, model_name='efficientnet', rescale_input=False, data_format='channels_last', dtype='float32')\n",
      "I0407 12:19:07.897072 18668 ssd_efficientnet_bifpn_feature_extractor.py:142] EfficientDet EfficientNet backbone version: efficientnet-b7\n",
      "I0407 12:19:07.897072 18668 ssd_efficientnet_bifpn_feature_extractor.py:144] EfficientDet BiFPN num filters: 384\n",
      "I0407 12:19:07.897072 18668 ssd_efficientnet_bifpn_feature_extractor.py:145] EfficientDet BiFPN num iterations: 8\n",
      "I0407 12:19:07.899075 18668 efficientnet_model.py:147] round_filter input=32 output=64\n",
      "I0407 12:19:07.913086 18668 efficientnet_model.py:147] round_filter input=32 output=64\n",
      "I0407 12:19:07.914088 18668 efficientnet_model.py:147] round_filter input=16 output=32\n",
      "I0407 12:19:08.137284 18668 efficientnet_model.py:147] round_filter input=16 output=32\n",
      "I0407 12:19:08.137284 18668 efficientnet_model.py:147] round_filter input=24 output=48\n",
      "I0407 12:19:08.630720 18668 efficientnet_model.py:147] round_filter input=24 output=48\n",
      "I0407 12:19:08.630720 18668 efficientnet_model.py:147] round_filter input=40 output=80\n",
      "I0407 12:19:09.114145 18668 efficientnet_model.py:147] round_filter input=40 output=80\n",
      "I0407 12:19:09.114145 18668 efficientnet_model.py:147] round_filter input=80 output=160\n",
      "I0407 12:19:09.810750 18668 efficientnet_model.py:147] round_filter input=80 output=160\n",
      "I0407 12:19:09.810750 18668 efficientnet_model.py:147] round_filter input=112 output=224\n",
      "I0407 12:19:10.731569 18668 efficientnet_model.py:147] round_filter input=112 output=224\n",
      "I0407 12:19:10.731569 18668 efficientnet_model.py:147] round_filter input=192 output=384\n",
      "I0407 12:19:11.638368 18668 efficientnet_model.py:147] round_filter input=192 output=384\n",
      "I0407 12:19:11.638368 18668 efficientnet_model.py:147] round_filter input=320 output=640\n",
      "I0407 12:19:11.916622 18668 efficientnet_model.py:147] round_filter input=1280 output=2560\n",
      "I0407 12:19:11.942637 18668 efficientnet_model.py:458] Building model efficientnet with params ModelConfig(width_coefficient=2.0, depth_coefficient=3.1, resolution=600, dropout_rate=0.5, blocks=(BlockConfig(input_filters=32, output_filters=16, kernel_size=3, num_repeat=1, expand_ratio=1, strides=(1, 1), se_ratio=0.25, id_skip=True, fused_conv=False, conv_type='depthwise'), BlockConfig(input_filters=16, output_filters=24, kernel_size=3, num_repeat=2, expand_ratio=6, strides=(2, 2), se_ratio=0.25, id_skip=True, fused_conv=False, conv_type='depthwise'), BlockConfig(input_filters=24, output_filters=40, kernel_size=5, num_repeat=2, expand_ratio=6, strides=(2, 2), se_ratio=0.25, id_skip=True, fused_conv=False, conv_type='depthwise'), BlockConfig(input_filters=40, output_filters=80, kernel_size=3, num_repeat=3, expand_ratio=6, strides=(2, 2), se_ratio=0.25, id_skip=True, fused_conv=False, conv_type='depthwise'), BlockConfig(input_filters=80, output_filters=112, kernel_size=5, num_repeat=3, expand_ratio=6, strides=(1, 1), se_ratio=0.25, id_skip=True, fused_conv=False, conv_type='depthwise'), BlockConfig(input_filters=112, output_filters=192, kernel_size=5, num_repeat=4, expand_ratio=6, strides=(2, 2), se_ratio=0.25, id_skip=True, fused_conv=False, conv_type='depthwise'), BlockConfig(input_filters=192, output_filters=320, kernel_size=3, num_repeat=1, expand_ratio=6, strides=(1, 1), se_ratio=0.25, id_skip=True, fused_conv=False, conv_type='depthwise')), stem_base_filters=32, top_base_filters=1280, activation='simple_swish', batch_norm='default', bn_momentum=0.99, bn_epsilon=0.001, weight_decay=5e-06, drop_connect_rate=0.2, depth_divisor=8, min_depth=None, use_se=True, input_channels=3, num_classes=1000, model_name='efficientnet', rescale_input=False, data_format='channels_last', dtype='float32')\n",
      "INFO:tensorflow:time(__main__.ModelBuilderTF2Test.test_create_ssd_models_from_config): 19.97s\n",
      "I0407 12:19:12.078764 18668 test_util.py:2188] time(__main__.ModelBuilderTF2Test.test_create_ssd_models_from_config): 19.97s\n",
      "[       OK ] ModelBuilderTF2Test.test_create_ssd_models_from_config\n",
      "[ RUN      ] ModelBuilderTF2Test.test_invalid_faster_rcnn_batchnorm_update\n",
      "INFO:tensorflow:time(__main__.ModelBuilderTF2Test.test_invalid_faster_rcnn_batchnorm_update): 0.0s\n",
      "I0407 12:19:12.084763 18668 test_util.py:2188] time(__main__.ModelBuilderTF2Test.test_invalid_faster_rcnn_batchnorm_update): 0.0s\n",
      "[       OK ] ModelBuilderTF2Test.test_invalid_faster_rcnn_batchnorm_update\n",
      "[ RUN      ] ModelBuilderTF2Test.test_invalid_first_stage_nms_iou_threshold\n",
      "INFO:tensorflow:time(__main__.ModelBuilderTF2Test.test_invalid_first_stage_nms_iou_threshold): 0.0s\n",
      "I0407 12:19:12.086771 18668 test_util.py:2188] time(__main__.ModelBuilderTF2Test.test_invalid_first_stage_nms_iou_threshold): 0.0s\n",
      "[       OK ] ModelBuilderTF2Test.test_invalid_first_stage_nms_iou_threshold\n",
      "[ RUN      ] ModelBuilderTF2Test.test_invalid_model_config_proto\n",
      "INFO:tensorflow:time(__main__.ModelBuilderTF2Test.test_invalid_model_config_proto): 0.0s\n",
      "I0407 12:19:12.086771 18668 test_util.py:2188] time(__main__.ModelBuilderTF2Test.test_invalid_model_config_proto): 0.0s\n",
      "[       OK ] ModelBuilderTF2Test.test_invalid_model_config_proto\n",
      "[ RUN      ] ModelBuilderTF2Test.test_invalid_second_stage_batch_size\n",
      "INFO:tensorflow:time(__main__.ModelBuilderTF2Test.test_invalid_second_stage_batch_size): 0.0s\n",
      "I0407 12:19:12.088766 18668 test_util.py:2188] time(__main__.ModelBuilderTF2Test.test_invalid_second_stage_batch_size): 0.0s\n",
      "[       OK ] ModelBuilderTF2Test.test_invalid_second_stage_batch_size\n",
      "[ RUN      ] ModelBuilderTF2Test.test_session\n",
      "[  SKIPPED ] ModelBuilderTF2Test.test_session\n",
      "[ RUN      ] ModelBuilderTF2Test.test_unknown_faster_rcnn_feature_extractor\n",
      "INFO:tensorflow:time(__main__.ModelBuilderTF2Test.test_unknown_faster_rcnn_feature_extractor): 0.0s\n",
      "I0407 12:19:12.089767 18668 test_util.py:2188] time(__main__.ModelBuilderTF2Test.test_unknown_faster_rcnn_feature_extractor): 0.0s\n",
      "[       OK ] ModelBuilderTF2Test.test_unknown_faster_rcnn_feature_extractor\n",
      "[ RUN      ] ModelBuilderTF2Test.test_unknown_meta_architecture\n",
      "INFO:tensorflow:time(__main__.ModelBuilderTF2Test.test_unknown_meta_architecture): 0.0s\n",
      "I0407 12:19:12.090886 18668 test_util.py:2188] time(__main__.ModelBuilderTF2Test.test_unknown_meta_architecture): 0.0s\n",
      "[       OK ] ModelBuilderTF2Test.test_unknown_meta_architecture\n",
      "[ RUN      ] ModelBuilderTF2Test.test_unknown_ssd_feature_extractor\n",
      "INFO:tensorflow:time(__main__.ModelBuilderTF2Test.test_unknown_ssd_feature_extractor): 0.0s\n",
      "I0407 12:19:12.091769 18668 test_util.py:2188] time(__main__.ModelBuilderTF2Test.test_unknown_ssd_feature_extractor): 0.0s\n",
      "[       OK ] ModelBuilderTF2Test.test_unknown_ssd_feature_extractor\n",
      "----------------------------------------------------------------------\n",
      "Ran 24 tests in 26.139s\n",
      "\n",
      "OK (skipped=1)\n"
     ]
    }
   ],
   "source": [
    "import Configuration.Config as config\n",
    "import os\n",
    "\n",
    "apiModelPath = config.paths['APIMODEL_PATH']\n",
    "VERIFICATION_SCRIPT = os.path.join(apiModelPath, 'research', 'object_detection', 'builders', 'model_builder_tf2_test.py')\n",
    "# Verify Installation\n",
    "!python {VERIFICATION_SCRIPT}"
   ]
  },
  {
   "cell_type": "markdown",
   "metadata": {
    "pycharm": {
     "name": "#%% md\n"
    }
   },
   "source": [
    "# PreTrained model installing"
   ]
  },
  {
   "cell_type": "code",
   "execution_count": null,
   "metadata": {
    "pycharm": {
     "name": "#%%\n"
    }
   },
   "outputs": [],
   "source": [
    "import wget\n",
    "import os\n",
    "import Configuration.Config as config\n",
    "\n",
    "PRETRAINED_MODEL_PATH = config.paths['PRETRAINED_MODEL_PATH']\n",
    "PRETRAINED_MODEL_URL = config.PRETRAINED_MODEL_URL\n",
    "PRETRAINED_MODEL_NAME = config.PRETRAINED_MODEL_NAME\n",
    "if os.name =='posix':\n",
    "    !wget {PRETRAINED_MODEL_URL}\n",
    "    !mv {PRETRAINED_MODEL_NAME+'.tar.gz'} {pretrainedModelUrlPath}\n",
    "    !cd {pretrainedModelUrlPath} && tar -zxvf {PRETRAINED_MODEL_NAME+'.tar.gz'}\n",
    "if os.name == 'nt':\n",
    "    !wget.download(PRETRAINED_MODEL_URL)\n",
    "    !move {PRETRAINED_MODEL_NAME+'.tar.gz'} {pretrainedModelUrlPath}\n",
    "    !cd {PRETRAINED_MODEL_PATH} && tar -zxvf {PRETRAINED_MODEL_NAME+'.tar.gz'}"
   ]
  },
  {
   "cell_type": "markdown",
   "metadata": {
    "pycharm": {
     "name": "#%% md\n"
    }
   },
   "source": [
    "#  Creating Tensorflow records"
   ]
  },
  {
   "cell_type": "code",
   "execution_count": null,
   "metadata": {
    "pycharm": {
     "name": "#%%\n"
    }
   },
   "outputs": [],
   "source": [
    "import os\n",
    "import Configuration.Config as config\n",
    "TF_RECORD_SCRIPT = config.files['TF_RECORD_SCRIPT']\n",
    "IMAGE_PATH = config.paths['IMAGE_PATH']\n",
    "LABELMAP = config.files['LABELMAP']\n",
    "ANNOTATION_PATH = config.paths['ANNOTATION_PATH']\n",
    "!python {TF_RECORD_SCRIPT} -x {os.path.join(IMAGE_PATH, 'train')} -l {LABELMAP} -o {os.path.join(ANNOTATION_PATH, 'train.record')}\n",
    "!python {TF_RECORD_SCRIPT} -x {os.path.join(IMAGE_PATH, 'test')} -l {LABELMAP} -o {os.path.join(ANNOTATION_PATH, 'test.record')}"
   ]
  },
  {
   "cell_type": "markdown",
   "metadata": {
    "pycharm": {
     "name": "#%% md\n"
    }
   },
   "source": [
    "# Copying Model Config to Training Folder"
   ]
  },
  {
   "cell_type": "code",
   "execution_count": null,
   "metadata": {
    "pycharm": {
     "name": "#%%\n"
    }
   },
   "outputs": [],
   "source": [
    "import os\n",
    "import Configuration.Config as config\n",
    "PRETRAINED_MODEL_PATH = config.paths['PRETRAINED_MODEL_PATH']\n",
    "PRETRAINED_MODEL_NAME = config.PRETRAINED_MODEL_NAME\n",
    "CHECKPOINT_PATH = config.paths['CHECKPOINT_PATH']\n",
    "\n",
    "if os.name =='posix':\n",
    "    !cp {os.path.join(PRETRAINED_MODEL_PATH, PRETRAINED_MODEL_NAME, 'pipeline.config')} {os.path.join(CHECKPOINT_PATH)}\n",
    "if os.name == 'nt':\n",
    "    !copy {os.path.join(PRETRAINED_MODEL_PATH, PRETRAINED_MODEL_NAME, 'pipeline.config')} {os.path.join(CHECKPOINT_PATH)}\n"
   ]
  },
  {
   "cell_type": "markdown",
   "metadata": {},
   "source": [
    "# Updating Config For Transfer Learning"
   ]
  },
  {
   "cell_type": "code",
   "execution_count": null,
   "metadata": {
    "pycharm": {
     "name": "#%%\n"
    }
   },
   "outputs": [],
   "source": [
    "import tensorflow as tf\n",
    "from object_detection.utils import config_util\n",
    "from object_detection.protos import pipeline_pb2\n",
    "from google.protobuf import text_format\n",
    "import Configuration.Config as config\n",
    "import TensorTrain\n",
    "\n",
    "PIPELINE_CONFIG = config.files['PIPELINE_CONFIG']\n",
    "labels = TensorTrain.GetLabels()\n",
    "PRETRAINED_MODEL_PATH = config.paths['PRETRAINED_MODEL_PATH']\n",
    "PRETRAINED_MODEL_NAME = config.PRETRAINED_MODEL_NAME\n",
    "LABELMAP = config.files['LABELMAP']\n",
    "ANNOTATION_PATH = config.paths['ANNOTATION_PATH']\n",
    "PIPELINE_CONFIG = config.files['PIPELINE_CONFIG']\n",
    "\n",
    "config = config_util.get_configs_from_pipeline_file(PIPELINE_CONFIG)\n",
    "pipeline_config = pipeline_pb2.TrainEvalPipelineConfig()\n",
    "with tf.io.gfile.GFile(PIPELINE_CONFIG, \"r\") as f:\n",
    "    proto_str = f.read()\n",
    "    text_format.Merge(proto_str, pipeline_config)\n",
    "\n",
    "pipeline_config.model.ssd.num_classes = len(labels)\n",
    "pipeline_config.train_config.batch_size = 4\n",
    "pipeline_config.train_config.fine_tune_checkpoint = os.path.join(PRETRAINED_MODEL_PATH, PRETRAINED_MODEL_NAME, 'checkpoint', 'ckpt-0')\n",
    "pipeline_config.train_config.fine_tune_checkpoint_type = \"detection\"\n",
    "pipeline_config.train_input_reader.label_map_path = LABELMAP\n",
    "pipeline_config.train_input_reader.tf_record_input_reader.input_path[:] = [os.path.join(ANNOTATION_PATH, 'train.record')]\n",
    "pipeline_config.eval_input_reader[0].label_map_path = LABELMAP\n",
    "pipeline_config.eval_input_reader[0].tf_record_input_reader.input_path[:] = [os.path.join(ANNOTATION_PATH, 'test.record')]\n",
    "\n",
    "config_text = text_format.MessageToString(pipeline_config)\n",
    "with tf.io.gfile.GFile(PIPELINE_CONFIG, \"wb\") as f:\n",
    "    f.write(config_text)\n",
    "config = config_util.get_configs_from_pipeline_file(PIPELINE_CONFIG)\n",
    "print(config)"
   ]
  },
  {
   "cell_type": "markdown",
   "metadata": {},
   "source": [
    "# 6. Train the model"
   ]
  },
  {
   "cell_type": "code",
   "execution_count": 2,
   "metadata": {
    "pycharm": {
     "name": "#%%\n"
    }
   },
   "outputs": [
    {
     "name": "stdout",
     "output_type": "stream",
     "text": [
      "python C:\\Users\\User\\PycharmProjects\\tensorFlowObjectDetection\\TFRecognition\\Tensorflow\\models\\research\\object_detection\\model_main_tf2.py --model_dir=C:\\Users\\User\\PycharmProjects\\tensorFlowObjectDetection\\TFRecognition\\Tensorflow\\workspace\\models\\my_ssd_mobnet_1000_pipeline_2k_run --pipeline_config_path=C:\\Users\\User\\PycharmProjects\\tensorFlowObjectDetection\\TFRecognition\\Tensorflow\\workspace\\models\\my_ssd_mobnet_1000_pipeline_2k_run\\pipeline.config --num_train_steps=2000\n"
     ]
    }
   ],
   "source": [
    "import os\n",
    "import Configuration.Config as config\n",
    "import object_detection\n",
    "\n",
    "APIMODEL_PATH = config.paths['APIMODEL_PATH']\n",
    "TRAINING_SCRIPT = os.path.join(APIMODEL_PATH, 'research', 'object_detection', 'model_main_tf2.py')\n",
    "CHECKPOINT_PATH = config.paths['CHECKPOINT_PATH']\n",
    "PIPELINE_CONFIG = config.files['PIPELINE_CONFIG']\n",
    "command = \"python {} --model_dir={} --pipeline_config_path={} --num_train_steps=2000\".format(TRAINING_SCRIPT, CHECKPOINT_PATH,PIPELINE_CONFIG)\n",
    "print(command)\n",
    "# For output it's better to launch the command in anaconda command line"
   ]
  },
  {
   "cell_type": "code",
   "execution_count": 3,
   "metadata": {
    "pycharm": {
     "name": "#%%\n"
    }
   },
   "outputs": [
    {
     "name": "stderr",
     "output_type": "stream",
     "text": [
      "2022-04-07 14:46:22.898209: I tensorflow/core/platform/cpu_feature_guard.cc:142] This TensorFlow binary is optimized with oneAPI Deep Neural Network Library (oneDNN) to use the following CPU instructions in performance-critical operations:  AVX AVX2\n",
      "To enable them in other operations, rebuild TensorFlow with the appropriate compiler flags.\n",
      "2022-04-07 14:46:23.621833: I tensorflow/core/common_runtime/gpu/gpu_device.cc:1510] Created device /job:localhost/replica:0/task:0/device:GPU:0 with 5470 MB memory:  -> device: 0, name: NVIDIA GeForce RTX 3070, pci bus id: 0000:09:00.0, compute capability: 8.6\n",
      "INFO:tensorflow:Using MirroredStrategy with devices ('/job:localhost/replica:0/task:0/device:GPU:0',)\n",
      "I0407 14:46:23.794654 22656 mirrored_strategy.py:369] Using MirroredStrategy with devices ('/job:localhost/replica:0/task:0/device:GPU:0',)\n",
      "INFO:tensorflow:Maybe overwriting train_steps: 2000\n",
      "I0407 14:46:23.801661 22656 config_util.py:552] Maybe overwriting train_steps: 2000\n",
      "INFO:tensorflow:Maybe overwriting use_bfloat16: False\n",
      "I0407 14:46:23.801661 22656 config_util.py:552] Maybe overwriting use_bfloat16: False\n",
      "WARNING:tensorflow:From C:\\ProgramData\\Anaconda3\\envs\\TensorFlowObjectDetection\\lib\\site-packages\\object_detection-0.1-py3.9.egg\\object_detection\\model_lib_v2.py:557: StrategyBase.experimental_distribute_datasets_from_function (from tensorflow.python.distribute.distribute_lib) is deprecated and will be removed in a future version.\n",
      "Instructions for updating:\n",
      "rename to distribute_datasets_from_function\n",
      "W0407 14:46:23.826682 22656 deprecation.py:339] From C:\\ProgramData\\Anaconda3\\envs\\TensorFlowObjectDetection\\lib\\site-packages\\object_detection-0.1-py3.9.egg\\object_detection\\model_lib_v2.py:557: StrategyBase.experimental_distribute_datasets_from_function (from tensorflow.python.distribute.distribute_lib) is deprecated and will be removed in a future version.\n",
      "Instructions for updating:\n",
      "rename to distribute_datasets_from_function\n",
      "Traceback (most recent call last):\n",
      "  File \"C:\\Users\\User\\PycharmProjects\\tensorFlowObjectDetection\\TFRecognition\\Tensorflow\\models\\research\\object_detection\\model_main_tf2.py\", line 115, in <module>\n",
      "    tf.compat.v1.app.run()\n",
      "  File \"C:\\ProgramData\\Anaconda3\\envs\\TensorFlowObjectDetection\\lib\\site-packages\\tensorflow\\python\\platform\\app.py\", line 40, in run\n",
      "    _run(main=main, argv=argv, flags_parser=_parse_flags_tolerate_undef)\n",
      "  File \"C:\\ProgramData\\Anaconda3\\envs\\TensorFlowObjectDetection\\lib\\site-packages\\absl\\app.py\", line 303, in run\n",
      "    _run_main(main, args)\n",
      "  File \"C:\\ProgramData\\Anaconda3\\envs\\TensorFlowObjectDetection\\lib\\site-packages\\absl\\app.py\", line 251, in _run_main\n",
      "    sys.exit(main(argv))\n",
      "  File \"C:\\Users\\User\\PycharmProjects\\tensorFlowObjectDetection\\TFRecognition\\Tensorflow\\models\\research\\object_detection\\model_main_tf2.py\", line 106, in main\n",
      "    model_lib_v2.train_loop(\n",
      "  File \"C:\\ProgramData\\Anaconda3\\envs\\TensorFlowObjectDetection\\lib\\site-packages\\object_detection-0.1-py3.9.egg\\object_detection\\model_lib_v2.py\", line 557, in train_loop\n",
      "    train_input = strategy.experimental_distribute_datasets_from_function(\n",
      "  File \"C:\\ProgramData\\Anaconda3\\envs\\TensorFlowObjectDetection\\lib\\site-packages\\tensorflow\\python\\util\\deprecation.py\", line 346, in new_func\n",
      "    return func(*args, **kwargs)\n",
      "  File \"C:\\ProgramData\\Anaconda3\\envs\\TensorFlowObjectDetection\\lib\\site-packages\\tensorflow\\python\\distribute\\distribute_lib.py\", line 1169, in experimental_distribute_datasets_from_function\n",
      "    return self.distribute_datasets_from_function(dataset_fn, options)\n",
      "  File \"C:\\ProgramData\\Anaconda3\\envs\\TensorFlowObjectDetection\\lib\\site-packages\\tensorflow\\python\\distribute\\distribute_lib.py\", line 1160, in distribute_datasets_from_function\n",
      "    return self._extended._distribute_datasets_from_function(  # pylint: disable=protected-access\n",
      "  File \"C:\\ProgramData\\Anaconda3\\envs\\TensorFlowObjectDetection\\lib\\site-packages\\tensorflow\\python\\distribute\\mirrored_strategy.py\", line 587, in _distribute_datasets_from_function\n",
      "    return input_lib.get_distributed_datasets_from_function(\n",
      "  File \"C:\\ProgramData\\Anaconda3\\envs\\TensorFlowObjectDetection\\lib\\site-packages\\tensorflow\\python\\distribute\\input_lib.py\", line 168, in get_distributed_datasets_from_function\n",
      "    return DistributedDatasetsFromFunction(input_workers, strategy,\n",
      "  File \"C:\\ProgramData\\Anaconda3\\envs\\TensorFlowObjectDetection\\lib\\site-packages\\tensorflow\\python\\distribute\\input_lib.py\", line 1578, in __init__\n",
      "    _create_datasets_from_function_with_input_context(\n",
      "  File \"C:\\ProgramData\\Anaconda3\\envs\\TensorFlowObjectDetection\\lib\\site-packages\\tensorflow\\python\\distribute\\input_lib.py\", line 2327, in _create_datasets_from_function_with_input_context\n",
      "    dataset = dataset_fn(ctx)\n",
      "  File \"C:\\ProgramData\\Anaconda3\\envs\\TensorFlowObjectDetection\\lib\\site-packages\\object_detection-0.1-py3.9.egg\\object_detection\\model_lib_v2.py\", line 548, in train_dataset_fn\n",
      "    train_input = inputs.train_input(\n",
      "  File \"C:\\ProgramData\\Anaconda3\\envs\\TensorFlowObjectDetection\\lib\\site-packages\\object_detection-0.1-py3.9.egg\\object_detection\\inputs.py\", line 901, in train_input\n",
      "    dataset = INPUT_BUILDER_UTIL_MAP['dataset_build'](\n",
      "  File \"C:\\ProgramData\\Anaconda3\\envs\\TensorFlowObjectDetection\\lib\\site-packages\\object_detection-0.1-py3.9.egg\\object_detection\\builders\\dataset_builder.py\", line 210, in build\n",
      "    decoder = decoder_builder.build(input_reader_config)\n",
      "  File \"C:\\ProgramData\\Anaconda3\\envs\\TensorFlowObjectDetection\\lib\\site-packages\\object_detection-0.1-py3.9.egg\\object_detection\\builders\\decoder_builder.py\", line 52, in build\n",
      "    decoder = tf_example_decoder.TfExampleDecoder(\n",
      "  File \"C:\\ProgramData\\Anaconda3\\envs\\TensorFlowObjectDetection\\lib\\site-packages\\object_detection-0.1-py3.9.egg\\object_detection\\data_decoders\\tf_example_decoder.py\", line 458, in __init__\n",
      "    _ClassTensorHandler(\n",
      "  File \"C:\\ProgramData\\Anaconda3\\envs\\TensorFlowObjectDetection\\lib\\site-packages\\object_detection-0.1-py3.9.egg\\object_detection\\data_decoders\\tf_example_decoder.py\", line 92, in __init__\n",
      "    name_to_id = label_map_util.get_label_map_dict(\n",
      "  File \"C:\\ProgramData\\Anaconda3\\envs\\TensorFlowObjectDetection\\lib\\site-packages\\object_detection-0.1-py3.9.egg\\object_detection\\utils\\label_map_util.py\", line 201, in get_label_map_dict\n",
      "    label_map = load_labelmap(label_map_path_or_proto)\n",
      "  File \"C:\\ProgramData\\Anaconda3\\envs\\TensorFlowObjectDetection\\lib\\site-packages\\object_detection-0.1-py3.9.egg\\object_detection\\utils\\label_map_util.py\", line 168, in load_labelmap\n",
      "    label_map_string = fid.read()\n",
      "  File \"C:\\ProgramData\\Anaconda3\\envs\\TensorFlowObjectDetection\\lib\\site-packages\\tensorflow\\python\\lib\\io\\file_io.py\", line 117, in read\n",
      "    self._preread_check()\n",
      "  File \"C:\\ProgramData\\Anaconda3\\envs\\TensorFlowObjectDetection\\lib\\site-packages\\tensorflow\\python\\lib\\io\\file_io.py\", line 79, in _preread_check\n",
      "    self._read_buf = _pywrap_file_io.BufferedInputStream(\n",
      "tensorflow.python.framework.errors_impl.NotFoundError: NewRandomAccessFile failed to Create/Open: Tensorflow\\workspace\\annotations\\label_map.pbtxt : The system cannot find the path specified.\n",
      "\n",
      "; No such process\n"
     ]
    }
   ],
   "source": [
    "#running the learning model in jupyter notebook\n",
    "!{command}\n"
   ]
  },
  {
   "cell_type": "markdown",
   "metadata": {},
   "source": [
    "# Model Evaluation\n"
   ]
  },
  {
   "cell_type": "code",
   "execution_count": 1,
   "metadata": {
    "pycharm": {
     "name": "#%%\n"
    }
   },
   "outputs": [
    {
     "ename": "NameError",
     "evalue": "name 'APIMODEL_PATH' is not defined",
     "output_type": "error",
     "traceback": [
      "\u001B[1;31m---------------------------------------------------------------------------\u001B[0m",
      "\u001B[1;31mNameError\u001B[0m                                 Traceback (most recent call last)",
      "\u001B[1;32m~\\AppData\\Local\\Temp/ipykernel_18872/516344373.py\u001B[0m in \u001B[0;36m<module>\u001B[1;34m\u001B[0m\n\u001B[0;32m      1\u001B[0m \u001B[1;32mimport\u001B[0m \u001B[0mos\u001B[0m\u001B[1;33m\u001B[0m\u001B[1;33m\u001B[0m\u001B[0m\n\u001B[0;32m      2\u001B[0m \u001B[1;32mimport\u001B[0m \u001B[0mConfiguration\u001B[0m\u001B[1;33m.\u001B[0m\u001B[0mConfig\u001B[0m \u001B[1;32mas\u001B[0m \u001B[0mconfig\u001B[0m\u001B[1;33m\u001B[0m\u001B[1;33m\u001B[0m\u001B[0m\n\u001B[1;32m----> 3\u001B[1;33m \u001B[0mTRAINING_SCRIPT\u001B[0m \u001B[1;33m=\u001B[0m \u001B[0mos\u001B[0m\u001B[1;33m.\u001B[0m\u001B[0mpath\u001B[0m\u001B[1;33m.\u001B[0m\u001B[0mjoin\u001B[0m\u001B[1;33m(\u001B[0m\u001B[0mAPIMODEL_PATH\u001B[0m\u001B[1;33m,\u001B[0m \u001B[1;34m'research'\u001B[0m\u001B[1;33m,\u001B[0m \u001B[1;34m'object_detection'\u001B[0m\u001B[1;33m,\u001B[0m \u001B[1;34m'model_main_tf2.py'\u001B[0m\u001B[1;33m)\u001B[0m\u001B[1;33m\u001B[0m\u001B[1;33m\u001B[0m\u001B[0m\n\u001B[0m\u001B[0;32m      4\u001B[0m \u001B[0mCHECKPOINT_PATH\u001B[0m \u001B[1;33m=\u001B[0m \u001B[0mconfig\u001B[0m\u001B[1;33m.\u001B[0m\u001B[0mpaths\u001B[0m\u001B[1;33m[\u001B[0m\u001B[1;34m'CHECKPOINT_PATH'\u001B[0m\u001B[1;33m]\u001B[0m\u001B[1;33m\u001B[0m\u001B[1;33m\u001B[0m\u001B[0m\n\u001B[0;32m      5\u001B[0m \u001B[0mPIPELINE_CONFIG\u001B[0m \u001B[1;33m=\u001B[0m \u001B[0mconfig\u001B[0m\u001B[1;33m.\u001B[0m\u001B[0mfiles\u001B[0m\u001B[1;33m[\u001B[0m\u001B[1;34m'PIPELINE_CONFIG'\u001B[0m\u001B[1;33m]\u001B[0m\u001B[1;33m\u001B[0m\u001B[1;33m\u001B[0m\u001B[0m\n",
      "\u001B[1;31mNameError\u001B[0m: name 'APIMODEL_PATH' is not defined"
     ]
    }
   ],
   "source": [
    "import os\n",
    "import Configuration.Config as config\n",
    "\n",
    "TRAINING_SCRIPT = os.path.join(APIMODEL_PATH, 'research', 'object_detection', 'model_main_tf2.py')\n",
    "CHECKPOINT_PATH = config.paths['CHECKPOINT_PATH']\n",
    "PIPELINE_CONFIG = config.files['PIPELINE_CONFIG']\n",
    "\n",
    "command = \"python {} --model_dir={} --pipeline_config_path={} --checkpoint_dir={}\".format(TRAINING_SCRIPT, CHECKPOINT_PATH,PIPELINE_CONFIG, CHECKPOINT_PATH)\n",
    "print(command)\n",
    "# Better to execute the command in anaconda"
   ]
  },
  {
   "cell_type": "code",
   "execution_count": null,
   "metadata": {
    "pycharm": {
     "name": "#%%\n"
    }
   },
   "outputs": [],
   "source": [
    "!{command}\n",
    "\n"
   ]
  }
 ],
 "metadata": {
  "kernelspec": {
   "display_name": "Python 3 (ipykernel)",
   "language": "python",
   "name": "python3"
  },
  "language_info": {
   "codemirror_mode": {
    "name": "ipython",
    "version": 3
   },
   "file_extension": ".py",
   "mimetype": "text/x-python",
   "name": "python",
   "nbconvert_exporter": "python",
   "pygments_lexer": "ipython3",
   "version": "3.9.7"
  }
 },
 "nbformat": 4,
 "nbformat_minor": 1
}